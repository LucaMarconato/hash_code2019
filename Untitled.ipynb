{
 "cells": [
  {
   "cell_type": "code",
   "execution_count": 2,
   "metadata": {},
   "outputs": [],
   "source": [
    "import matplotlib.pyplot as plt"
   ]
  },
  {
   "cell_type": "code",
   "execution_count": 3,
   "metadata": {},
   "outputs": [
    {
     "name": "stdout",
     "output_type": "stream",
     "text": [
      "Reading done\n"
     ]
    }
   ],
   "source": [
    "file = open('c_example.txt','r')\n",
    "file.readline()\n",
    "pics = file.readlines()\n",
    "file.close()\n",
    "print(\"Reading done\")"
   ]
  },
  {
   "cell_type": "code",
   "execution_count": 4,
   "metadata": {},
   "outputs": [
    {
     "name": "stdout",
     "output_type": "stream",
     "text": [
      "Computation done\n"
     ]
    }
   ],
   "source": [
    "hor = []\n",
    "ver = []\n",
    "taghor = {}\n",
    "tagver = {}\n",
    "taghorlen = {}\n",
    "tagverlen = {}\n",
    "for i in range(len(pics)):\n",
    "    editpic = pics[i].split()\n",
    "    tags = editpic[2:]\n",
    "    tags.sort()\n",
    "    if editpic[0]=='H':\n",
    "        hor.append([i] + tags)\n",
    "        for tag in tags:\n",
    "            if tag in taghor:\n",
    "                taghor[tag].append(i)\n",
    "                taghorlen[tag] += 1\n",
    "            else:\n",
    "                taghor[tag]=[i]\n",
    "                taghorlen[tag] = 1\n",
    "    else:\n",
    "        ver.append([i] + tags)\n",
    "        for tag in tags:\n",
    "            if tag in tagver:\n",
    "                tagver[tag].append(i)\n",
    "                tagverlen[tag] += 1\n",
    "            else:\n",
    "                tagver[tag]=[i]\n",
    "                tagverlen[tag] = 1\n",
    "print(\"Computation done\")                "
   ]
  },
  {
   "cell_type": "code",
   "execution_count": 38,
   "metadata": {},
   "outputs": [],
   "source": [
    "def plotdict(dic):\n",
    "    names = list(dic.keys())\n",
    "    value = list(dic.values())\n",
    "    value.sort(reverse= True)\n",
    "    plt.plot(value)"
   ]
  },
  {
   "cell_type": "code",
   "execution_count": 39,
   "metadata": {},
   "outputs": [
    {
     "data": {
      "image/png": "[encoded data removed]",
      "text/plain": [
       "<Figure size 432x288 with 1 Axes>"
      ]
     },
     "metadata": {},
     "output_type": "display_data"
    }
   ],
   "source": [
    "plotdict(taghorlen)"
   ]
  },
  {
   "cell_type": "code",
   "execution_count": 23,
   "metadata": {},
   "outputs": [
    {
     "data": {
      "text/plain": [
       "1558"
      ]
     },
     "execution_count": 23,
     "metadata": {},
     "output_type": "execute_result"
    }
   ],
   "source": [
    "dic = sorted(taghorlen.items(), key=lambda x: x[1], reverse = True)\n",
    "len(dic)"
   ]
  }
 ],
 "metadata": {
  "kernelspec": {
   "display_name": "Python 3",
   "language": "python",
   "name": "python3"
  },
  "language_info": {
   "codemirror_mode": {
    "name": "ipython",
    "version": 3
   },
   "file_extension": ".py",
   "mimetype": "text/x-python",
   "name": "python",
   "nbconvert_exporter": "python",
   "pygments_lexer": "ipython3",
   "version": "3.5.2"
  }
 },
 "nbformat": 4,
 "nbformat_minor": 2
}
